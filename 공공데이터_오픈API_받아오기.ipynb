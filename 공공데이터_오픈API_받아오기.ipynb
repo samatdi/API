{
 "cells": [
  {
   "cell_type": "code",
   "execution_count": null,
   "id": "fed8aae9",
   "metadata": {},
   "outputs": [],
   "source": [
    "#https://wonhwa.tistory.com/16"
   ]
  },
  {
   "cell_type": "code",
   "execution_count": null,
   "id": "84ec15da",
   "metadata": {},
   "outputs": [],
   "source": [
    "# url은 참고문서에서 따와야\n",
    "# xml구조에 따라 명령어 달라짐. 봐야된다. "
   ]
  },
  {
   "cell_type": "code",
   "execution_count": 60,
   "id": "71bde01f",
   "metadata": {},
   "outputs": [],
   "source": [
    "# 모듈 import\n",
    "import requests\n",
    "import pprint\n",
    "\n",
    "#인증키 입력\n",
    "encoding = 'DspoWCubq1fqJqhtCsqFxS1EggF1ukemlgPgGaUSY%2F6K%2F1W0eCZguDUWDYbdb2bcbCF6TkStF2gPHE5GWE6wYA%3D%3D'\n",
    "decoding = 'DspoWCubq1fqJqhtCsqFxS1EggF1ukemlgPgGaUSY/6K/1W0eCZguDUWDYbdb2bcbCF6TkStF2gPHE5GWE6wYA=='\n",
    "\n",
    "#url 입력\n",
    "url = 'http://apis.data.go.kr/6310000/ulsanmountain/getUlsanmountainList?serviceKey=DspoWCubq1fqJqhtCsqFxS1EggF1ukemlgPgGaUSY%2F6K%2F1W0eCZguDUWDYbdb2bcbCF6TkStF2gPHE5GWE6wYA%3D%3D&numOfRows=10&pageNo=1'\n",
    "params ={'serviceKey' : 'decoding', 'pageNo' : '1', 'numOfRows' : '10', 'searchTitle' : '' }\n",
    "\n",
    "response = requests.get(url, params=params)\n",
    "\n",
    "# xml 내용\n",
    "content = response.text\n",
    "\n",
    "# 깔끔한 출력 위한 코드\n",
    "pp = pprint.PrettyPrinter(indent=4)\n",
    "#print(pp.pprint(content))"
   ]
  },
  {
   "cell_type": "code",
   "execution_count": 67,
   "id": "e202720a",
   "metadata": {},
   "outputs": [
    {
     "name": "stdout",
     "output_type": "stream",
     "text": [
      "[<list><unqId>1</unqId><title>가지산</title><intr>봄이면 진달래, 여름이면 녹음, 가을이면 단풍, 겨울이면 눈으로 4계절 모두 비경을 연출하여 울산12경으로 지정</intr><roadNmAddr>울산광역시 울주군 상북면 / 경남 밀양시 산내면 / 경북 청도군 운문면</roadNmAddr><lotnoAddr>울산광역시 울주군 상북면 / 경남 밀양시 산내면 / 경북 청도군 운문면</lotnoAddr><rprsTelno>052-204-1727</rprsTelno><hmpgAddr/><lot>129.003367</lot><lat>35.620106</lat><cn>가지산은 영남알프스내의 가장 높은 산으로 1979년 경상남도 도립공원으로 지정되었다.&lt;br&gt;\r\n",
      "울산 울주군, 경남 밀양시, 경북 청도군에 걸쳐 있으며, 해발 1,000m이상의 9개 고산으로 이어진 영남알프스의 주봉이다.&lt;br&gt;\r\n",
      "주변의 귀바위, 무명봉인 1042봉, 1028봉, 1060봉 등이 가지산을 빙 둘러 대장처럼 호위하고 있다.&lt;br&gt;&lt;br&gt;\r\n",
      " \r\n",
      "가지산 사계는 '울산12경'의 하나로 계절 따라 그 경관이 아름답기로 유명하다.&lt;br&gt;&lt;br&gt;\r\n",
      "\r\n",
      "봄에는 진달래와 천연기념물 제462호인 철쭉군락지가 봄 정취를 한껏 자아내고 여름에는 석남사계곡, 심심이 계곡, 학소대폭포가 있는 학심이골, 오천평반석이 있는 쇠점골계곡, 호박소가 있는 용수골에서 더위를 피할 수 있다.&lt;br&gt;\r\n",
      "시원한 계곡물에 발을 담그고 있으면 콧노래가 절로 나온다.&lt;br&gt;\r\n",
      "가을에는 단풍이 곱게 물든 석남사계곡을 찾는 이가 많은데, 가을 풍광에 마음을 빼앗긴 사람들은 석남사를 그냥 지나치지 못한다.&lt;br&gt;\r\n",
      "겨울에는 쌀바위 주변에 쌓인 설경이 아름답다.&lt;br&gt;\r\n",
      "나무가지에 핀 상고대를 본 사람들은 \"가지산은 겨울이 가장 아름답다.\"고 입을 모은다.&lt;br&gt;\r\n",
      "가지산에서 발길을 돌리기 아쉽다면 가지산온천과 운문산자연휴양림에서 온천과 산림욕을 즐길 수 있다. &lt;br&gt;\r\n",
      "가지산 동쪽 산기슭에는 신라 헌덕왕 16년(884년)에 도의국사가 창건하였다는 석남사가 자리잡고 있다.&lt;br&gt;\r\n",
      "석남사에서 대웅전과 대웅전 탱화, 삼층석탑, 도의국사 부도, 월하집(月荷集), 수조, 엄나무구유 등 역사적 유물을 보면 감탄이 절로 나올 것이다.  </cn><addtCn>o 해발 : 1,241m&lt;br&gt;o 등산코스&lt;span style='font-family: \"나눔고딕\",NanumGothic; font-size: 12pt;'&gt;&lt;br&gt;&lt;/span&gt;&lt;div align=\"center\" style=\"text-align: center;\"&gt;&lt;/div&gt;&lt;div align=\"center\" style=\"text-align: center;\"&gt;&lt;/div&gt;&lt;div align=\"center\" style=\"text-align: center;\"&gt;&lt;/div&gt;&lt;div align=\"center\" style=\"text-align: center;\"&gt;&lt;/div&gt;&lt;table class=\"table_t1 __se_tbl_ext\" summary=\"가지산 등산코스에 대해 지역, 코스, 등산코스, 왕복거리, 왕복소요시간에대해 나타낸 표 입니다.\"&gt;&lt;caption&gt;&lt;/caption&gt;&lt;thead&gt;&lt;tr&gt;&lt;th scope=\"col\"&gt;&lt;p align=\"center\" style=\"text-align: center;\"&gt;지역&lt;/p&gt;&lt;/th&gt;&lt;th scope=\"col\"&gt;&lt;p align=\"center\" style=\"text-align: center;\"&gt;&amp;nbsp;&amp;nbsp;&amp;nbsp;&amp;nbsp;&amp;nbsp;&amp;nbsp;코스&lt;/p&gt;&lt;/th&gt;&lt;th scope=\"col\"&gt;등산코스&lt;/th&gt;&lt;th scope=\"col\"&gt;왕복거리&lt;/th&gt;&lt;th scope=\"col\"&gt;&amp;nbsp; 왕복소요시간&lt;/th&gt;&lt;/tr&gt;&lt;/thead&gt;&lt;tbody&gt;&lt;tr&gt;&lt;td class=\"tac fwb\" rowspan=\"3\"&gt;&lt;p align=\"center\" style=\"text-align: center;\"&gt;울산&lt;/p&gt;&lt;/td&gt;&lt;td class=\"couse_st1\"&gt;&lt;p align=\"center\" style=\"text-align: center;\"&gt;&amp;nbsp;&amp;nbsp;&amp;nbsp;&amp;nbsp;&amp;nbsp;&amp;nbsp; 1코스&lt;/p&gt;&lt;/td&gt;&lt;td&gt;&lt;p align=\"center\" style=\"text-align: center;\"&gt;운문령-귀바위-쌀바위-정상&lt;/p&gt;&lt;/td&gt;&lt;td class=\"tac\"&gt;&lt;p align=\"center\" style=\"text-align: center;\"&gt;&amp;nbsp; 9.6Km&lt;/p&gt;&lt;/td&gt;&lt;td class=\"tac\"&gt;&lt;p align=\"center\" style=\"text-align: center;\"&gt;&amp;nbsp;&amp;nbsp;&amp;nbsp;&amp;nbsp;&amp;nbsp; 04:00&lt;/p&gt;&lt;/td&gt;&lt;/tr&gt;&lt;tr&gt;&lt;td class=\"bol1 couse_st1\"&gt;&lt;p align=\"center\" style=\"text-align: center;\"&gt;&amp;nbsp;&amp;nbsp;&amp;nbsp;&amp;nbsp;&amp;nbsp;&amp;nbsp; 2코스&lt;/p&gt;&lt;/td&gt;&lt;td&gt;&lt;p align=\"center\" style=\"text-align: center;\"&gt;석남터널-가지산 중봉-정상&lt;/p&gt;&lt;/td&gt;&lt;td class=\"tac\"&gt;&lt;p align=\"center\" style=\"text-align: center;\"&gt;&amp;nbsp; 6.0Km&lt;/p&gt;&lt;/td&gt;&lt;td class=\"tac\"&gt;&lt;p align=\"center\" style=\"text-align: center;\"&gt;&amp;nbsp;&amp;nbsp;&amp;nbsp;&amp;nbsp;&amp;nbsp; 03:40&lt;/p&gt;&lt;/td&gt;&lt;/tr&gt;&lt;tr&gt;&lt;td class=\"bol1 couse_st1\"&gt;&lt;p align=\"center\" style=\"text-align: center;\"&gt;&amp;nbsp;&amp;nbsp;&amp;nbsp;&amp;nbsp;&amp;nbsp;&amp;nbsp; 3코스&lt;/p&gt;&lt;/td&gt;&lt;td&gt;&lt;p align=\"center\" style=\"text-align: center;\"&gt;석남사주차장-석남고개-가지산 중봉-정상&lt;/p&gt;&lt;/td&gt;&lt;td class=\"tac\"&gt;&lt;p align=\"center\" style=\"text-align: center;\"&gt;&amp;nbsp; 9.4Km&lt;/p&gt;&lt;/td&gt;&lt;td class=\"tac\"&gt;&lt;p align=\"center\" style=\"text-align: center;\"&gt;&amp;nbsp;&amp;nbsp;&amp;nbsp;&amp;nbsp;&amp;nbsp; 05:10&lt;/p&gt;&lt;/td&gt;&lt;/tr&gt;&lt;tr&gt;&lt;td class=\"tac fwb\" rowspan=\"2\"&gt;&lt;p align=\"center\" style=\"text-align: center;\"&gt;밀양&lt;/p&gt;&lt;/td&gt;&lt;td class=\"couse_st1\"&gt;&lt;p align=\"center\" style=\"text-align: center;\"&gt;&amp;nbsp;&amp;nbsp;&amp;nbsp;&amp;nbsp;&amp;nbsp;&amp;nbsp;&amp;nbsp;1코스&lt;/p&gt;&lt;/td&gt;&lt;td&gt;&lt;p align=\"center\" style=\"text-align: center;\"&gt;석남터널-가지산 중봉-정상&lt;/p&gt;&lt;/td&gt;&lt;td class=\"tac\"&gt;&lt;p align=\"center\" style=\"text-align: center;\"&gt;&amp;nbsp; 5.4Km&lt;/p&gt;&lt;/td&gt;&lt;td class=\"tac\"&gt;&lt;p align=\"center\" style=\"text-align: center;\"&gt;&amp;nbsp;&amp;nbsp;&amp;nbsp;&amp;nbsp;&amp;nbsp; 03:40&lt;/p&gt;&lt;/td&gt;&lt;/tr&gt;&lt;tr&gt;&lt;td class=\"bol1 couse_st1\"&gt;&lt;p align=\"center\" style=\"text-align: center;\"&gt;&amp;nbsp;&amp;nbsp;&amp;nbsp;&amp;nbsp;&amp;nbsp;&amp;nbsp; 2코스&lt;/p&gt;&lt;/td&gt;&lt;td&gt;&lt;p align=\"center\" style=\"text-align: center;\"&gt;호박소-석남고개-가지산 중봉-정상&lt;/p&gt;&lt;/td&gt;&lt;td class=\"tac\"&gt;&lt;p align=\"center\" style=\"text-align: center;\"&gt;&amp;nbsp; 7.4Km&lt;/p&gt;&lt;/td&gt;&lt;td class=\"tac\"&gt;&lt;p align=\"center\" style=\"text-align: center;\"&gt;&amp;nbsp;&amp;nbsp;&amp;nbsp;&amp;nbsp;&amp;nbsp; 03:30&lt;/p&gt;&lt;/td&gt;&lt;/tr&gt;&lt;tr&gt;&lt;td class=\"tac fwb\" rowspan=\"3\"&gt;&lt;p align=\"center\" style=\"text-align: center;\"&gt;청도&lt;/p&gt;&lt;/td&gt;&lt;td class=\"bol1 couse_st1\"&gt;&lt;p align=\"center\" style=\"text-align: center;\"&gt;&amp;nbsp;&amp;nbsp;&amp;nbsp;&amp;nbsp;&amp;nbsp;&amp;nbsp; 1코스&lt;/p&gt;&lt;/td&gt;&lt;td&gt;&lt;p align=\"center\" style=\"text-align: center;\"&gt;운문령-귀바위-쌀바위-정상&lt;/p&gt;&lt;/td&gt;&lt;td class=\"tac\"&gt;&lt;p align=\"center\" style=\"text-align: center;\"&gt;&amp;nbsp; 9.6Km&lt;/p&gt;&lt;/td&gt;&lt;td class=\"tac\"&gt;&lt;p align=\"center\" style=\"text-align: center;\"&gt;&amp;nbsp;&amp;nbsp;&amp;nbsp;&amp;nbsp;&amp;nbsp; 04:00&lt;/p&gt;&lt;/td&gt;&lt;/tr&gt;&lt;tr&gt;&lt;td class=\"bol1 couse_st1\"&gt;&lt;p align=\"center\" style=\"text-align: center;\"&gt;&amp;nbsp;&amp;nbsp;&amp;nbsp;&amp;nbsp;&amp;nbsp;&amp;nbsp; 2코스&lt;/p&gt;&lt;/td&gt;&lt;td&gt;&lt;p align=\"center\" style=\"text-align: center;\"&gt;&amp;nbsp;&amp;nbsp;&amp;nbsp;&amp;nbsp;&amp;nbsp;&amp;nbsp;운문사-사리암주차장-심심계곡-아랫재-정상(현재 자연휴식년제로 통제)&lt;/p&gt;&lt;/td&gt;&lt;td class=\"tac\"&gt;&lt;p align=\"center\" style=\"text-align: center;\"&gt;&amp;nbsp;10.2Km&lt;/p&gt;&lt;/td&gt;&lt;td class=\"tac\"&gt;&lt;p align=\"center\" style=\"text-align: center;\"&gt;&amp;nbsp;&amp;nbsp;&amp;nbsp;&amp;nbsp;&amp;nbsp;&amp;nbsp;09:20&lt;/p&gt;&lt;/td&gt;&lt;/tr&gt;&lt;tr&gt;&lt;td class=\"bol1 couse_st1\"&gt;&lt;p align=\"center\" style=\"text-align: center;\"&gt;&amp;nbsp;&amp;nbsp;&amp;nbsp;&amp;nbsp;&amp;nbsp; 3코스&lt;/p&gt;&lt;/td&gt;&lt;td&gt;&lt;p align=\"center\" style=\"text-align: center;\"&gt;운문사-사리암주차장-학소대폭포-정상(현재 자연휴식년제로 통제)&lt;/p&gt;&lt;/td&gt;&lt;td class=\"tac\"&gt;&amp;nbsp; 17.2Km&lt;/td&gt;&lt;td class=\"tac\"&gt;&amp;nbsp;&amp;nbsp;&amp;nbsp;&amp;nbsp;&amp;nbsp;&amp;nbsp;&amp;nbsp;&amp;nbsp;&amp;nbsp;&amp;nbsp; 09:20&lt;/td&gt;&lt;/tr&gt;&lt;/tbody&gt;&lt;/table&gt;&lt;p&gt;&lt;br&gt;o 등산로 관리 : 울주군 산림공원과 장보근 ☎ 052-204-1727&amp;nbsp; &lt;/p&gt;&lt;div class=\"detail_couse\"&gt;&lt;br&gt;&lt;/div&gt;</addtCn><mdfcnDt>2021-12-18 14:04:45</mdfcnDt></list>, <list><unqId>2</unqId><title>간월산</title><intr>신불산과 더불어 신성한 산</intr><roadNmAddr>울산광역시 울주군 상북면 이천리 / 등억알프스리</roadNmAddr><lotnoAddr>울산광역시 울주군 상북면 이천리 / 등억알프스리</lotnoAddr><rprsTelno>052-204-1727</rprsTelno><hmpgAddr/><lot>129.040032</lot><lat>35.55202</lat><cn>&lt;p&gt;&lt;span style=\"color: rgb(0, 0, 0);\"&gt;&lt;/span&gt;&lt;span style=\"color: rgb(0, 0, 0);\"&gt;간월산은 울주군 상북면 이천리와 등억리 사이에 있어 주말이면 부산, 경남, 울산 산악인들이 즐겨 찾는 곳이다.&lt;br&gt;&amp;nbsp;&lt;/span&gt;&lt;/p&gt;&lt;p&gt;&lt;span style=\"color: rgb(0, 0, 0);\"&gt;신불산과 더불어 신성한 산이라는 의미를 가지고 있으며, 동쪽은 깎아지른 듯한 바위 절벽을 이루고 서쪽은 경사가 완만한 고원지대를 이룬다.&lt;br&gt;정상에서 간월산장까지 뻗은 험준한 바위능선 간월공룡(澗月恐龍)이 등산객에게 인기가 높고, 억새꽃이만발하는 가을이면 간월재에서 산상음악회가 열려 관광객이 몰려든다.&lt;br&gt;&amp;nbsp;&lt;/span&gt;&lt;/p&gt;&lt;p&gt;&lt;span style=\"color: rgb(0, 0, 0);\"&gt;최근에 패러글라이딩 동호회원들이 휴일이면 간월재에서 활공을 하고 있어 등산객들에게 볼거리를 제공한다.&lt;br&gt;간월산자연휴양림이 있어 단체나 가족들이 야영하거나 방갈로를 이용하며 여가를 즐길 수 있다.&lt;br&gt;&amp;nbsp;&lt;/span&gt;&lt;/p&gt;&lt;p&gt;&lt;span style=\"color: rgb(0, 0, 0);\"&gt;간월산은 바람도 많고 사연도 많은 눈물겨운 곳이다. &lt;br&gt;왕방골에는 죽림굴(竹林窟)이 있는데 천주교 신자들이 박해를 피해 믿음을 이어가던 곳이다. &lt;br&gt;로마시대 지하교회 카타곰베(Catacombe)와 같은 역할을 했던 곳으로 조선시대 천주교 신자들의 고달픈 삶을 엿볼 수 있다.&lt;br&gt;&amp;nbsp;&lt;/span&gt;&lt;/p&gt;&lt;p&gt;&lt;span style=\"color: rgb(0, 0, 0);\"&gt;배내골에서 언양으로 넘어가던 덕현재, 긴등재, 간월재(왕봉재)는 배내골 사람들과 밀양 사람들이 언양 장터로 넘어가던 고개이다. &lt;br&gt;등에 젖먹이를 업고 손에 콩 보자기를 들면 하늘이 노랗게 보였다는 아낙네의 한숨이, 주막에서 노름하다 소 판 돈을 날린 사내의 울음이, 아이에게 줄 먹을거리를 등에 멘 농부의 웃음이 깔린 곳이다. &lt;br&gt;간월산을 포함한 영남알프스 일대는 빨치산과 토벌대가 서로에게 총을 겨누던 아픈 역사의 장소이기도 하다.&lt;/span&gt;&amp;nbsp;&lt;/p&gt;</cn><addtCn>&lt;p&gt;o 해발 : 1,069m&lt;br&gt;o 등산코스&lt;br&gt;&lt;/p&gt;&lt;table class=\"table_t1 __se_tbl_ext\" summary=\"간월산 등산코스에 대해 코스, 등산코스, 왕복거리, 왕복소요시간에 대해 나타낸 표 입니다.\"&gt;&lt;thead&gt;&lt;tr&gt;&lt;th scope=\"col\"&gt;&amp;nbsp;&amp;nbsp;&amp;nbsp;&amp;nbsp; 코스&lt;/th&gt;&lt;th scope=\"col\"&gt;등산코스&lt;/th&gt;&lt;th scope=\"col\"&gt;&amp;nbsp;&amp;nbsp; 왕복거리&lt;/th&gt;&lt;th scope=\"col\"&gt;&amp;nbsp;&amp;nbsp;&amp;nbsp; 왕복소요시간&lt;/th&gt;&lt;/tr&gt;&lt;/thead&gt;&lt;tbody&gt;&lt;tr&gt;&lt;td class=\"couse_st1\"&gt;&amp;nbsp;&amp;nbsp;&amp;nbsp;&amp;nbsp;&amp;nbsp; 1코스&lt;/td&gt;&lt;td&gt;&amp;nbsp;&amp;nbsp;&amp;nbsp;&amp;nbsp;&amp;nbsp;&amp;nbsp;&amp;nbsp;&amp;nbsp;&amp;nbsp;&amp;nbsp; 간월산장-간월재-정상 &lt;/td&gt;&lt;td class=\"tac\"&gt;&amp;nbsp;&amp;nbsp;&amp;nbsp;&amp;nbsp;&amp;nbsp;&amp;nbsp; 7.4Km&lt;/td&gt;&lt;td class=\"tac\"&gt;&amp;nbsp;&amp;nbsp;&amp;nbsp;&amp;nbsp;&amp;nbsp;&amp;nbsp;&amp;nbsp;&amp;nbsp;&amp;nbsp;&amp;nbsp;&amp;nbsp; 03:20 &lt;/td&gt;&lt;/tr&gt;&lt;tr&gt;&lt;td class=\"couse_st1\"&gt;&amp;nbsp;&amp;nbsp;&amp;nbsp;&amp;nbsp;&amp;nbsp; 2코스&lt;/td&gt;&lt;td&gt;&amp;nbsp;&amp;nbsp;&amp;nbsp;&amp;nbsp;&amp;nbsp;&amp;nbsp;&amp;nbsp;&amp;nbsp;&amp;nbsp;&amp;nbsp; 배내고개-배내봉-정상&lt;/td&gt;&lt;td class=\"tac\"&gt;&amp;nbsp;&amp;nbsp;&amp;nbsp;&amp;nbsp;&amp;nbsp;&amp;nbsp; 8.0Km&lt;/td&gt;&lt;td class=\"tac\"&gt;&amp;nbsp;&amp;nbsp;&amp;nbsp;&amp;nbsp;&amp;nbsp;&amp;nbsp;&amp;nbsp;&amp;nbsp;&amp;nbsp;&amp;nbsp;&amp;nbsp; 03:10&lt;/td&gt;&lt;/tr&gt;&lt;tr&gt;&lt;td class=\"couse_st1\"&gt;&amp;nbsp;&amp;nbsp;&amp;nbsp;&amp;nbsp;&amp;nbsp; 3코스&lt;/td&gt;&lt;td&gt;&amp;nbsp;&amp;nbsp;&amp;nbsp;&amp;nbsp;&amp;nbsp; 간월산장-간월공룡능선-헬기장-정상&lt;/td&gt;&lt;td class=\"tac\"&gt;&amp;nbsp;&amp;nbsp;&amp;nbsp;&amp;nbsp;&amp;nbsp;&amp;nbsp;&amp;nbsp;6.0Km&lt;/td&gt;&lt;td class=\"tac\"&gt;&amp;nbsp;&amp;nbsp;&amp;nbsp;&amp;nbsp;&amp;nbsp;&amp;nbsp;&amp;nbsp;&amp;nbsp;&amp;nbsp;&amp;nbsp;&amp;nbsp; 05:10&lt;/td&gt;&lt;/tr&gt;&lt;/tbody&gt;&lt;/table&gt;&lt;p&gt;o 등산로 관리 : 울주군 산림공원과 장동훈 ☎ 052-204-1724&lt;br&gt;&lt;/p&gt;</addtCn><mdfcnDt>2021-12-18 14:04:27</mdfcnDt></list>, <list><unqId>7</unqId><title>고헌산</title><intr>가뭄이 들면 산 정상에 있는 용샘에서 기우제를 지내기도 했던 곳으로 유명한 산</intr><roadNmAddr>울산광역시 울주군 언양읍, 상북면, 두서면 / 경북 경주시 산내면</roadNmAddr><lotnoAddr>울산광역시 울주군 언양읍, 상북면, 두서면 / 경북 경주시 산내면</lotnoAddr><rprsTelno>052-204-1727</rprsTelno><hmpgAddr/><lot>129.084904</lot><lat>35.641582</lat><cn>&lt;p&gt;&lt;span style=\"color: rgb(37, 37, 37);\"&gt;고헌산은 울주군 상북면과 언양읍, 두서면의 경계를 이루고 있는 높은 산으로 가뭄이 들면 산 정상에 있는 용샘에서 기우제를 지내기도 했던 곳이다.&lt;br&gt;산 정상의 옛 성터와 억새군락, 장쾌하게 이어지는 전망이 볼거리이다.&lt;/span&gt;&lt;br&gt;&lt;br&gt;&lt;span style=\"color: rgb(37, 37, 37);\"&gt;백두대간 낙동정맥이 낙동강 동쪽을 따라 내려오다 영남알프스에 이르러 고헌산을 처음으로 만난다.&lt;br&gt;예로부터 언양현의 진산(鎭山)으로 신성시하여 고을 이름인 '언양'도 그 옛 이름인 '헌양' 또는 '헌산'에서 나온 것인데, 모두 고헌산의 이름에서 유래되었다고 한다.&lt;br&gt;&lt;br&gt;고헌산의 남쪽으로 구량천이 흘러 태화강의 지류를 이루며 북쪽 기슭에서 밀양강 상류인 동창천이 발원하고 있다.&lt;br&gt;고헌산 등산객들은 백운산에서 가지산으로 이어지는 영남알프스 동서방향 능선을 이용하거나, 남쪽 산비탈을 올라 정상에 갔다가 다시 남쪽으로 내려오는 길을 선택한다.&lt;br&gt;&lt;br&gt;고헌산을 등산해 보면 산의 규모가 워낙 커서 왜 이 산에서 언양이란 지명이 생겨났고, 언양의 진산이라 하는지를 어렴풋이나마 짐작할 수 있다.&lt;/span&gt;&lt;span style=\"color: rgb(37, 37, 37);\"&gt;&amp;nbsp;&lt;/span&gt;&amp;nbsp;&lt;/p&gt;</cn><addtCn>&lt;p&gt;o 해발 : 1,034m&lt;br&gt;&lt;br&gt;o 등산코스&lt;br&gt;&lt;/p&gt;&lt;table class=\"table_t1 __se_tbl_ext\" summary=\"고헌산 등산코스\"&gt;&lt;thead&gt;&lt;tr&gt;&lt;th scope=\"col\"&gt;&amp;nbsp;&amp;nbsp;코스&lt;/th&gt;&lt;th scope=\"col\"&gt;등산코스&lt;/th&gt;&lt;th scope=\"col\"&gt;&amp;nbsp;&amp;nbsp;&amp;nbsp; 왕복거리&lt;/th&gt;&lt;th scope=\"col\"&gt;&amp;nbsp;&amp;nbsp;&amp;nbsp;&amp;nbsp;&amp;nbsp; 왕복소요시간&lt;/th&gt;&lt;/tr&gt;&lt;/thead&gt;&lt;tbody&gt;&lt;tr&gt;&lt;td class=\"couse_st1\"&gt;&amp;nbsp;&amp;nbsp;&amp;nbsp; 1코스&lt;/td&gt;&lt;td&gt;&lt;p align=\"center\" style=\"text-align: center;\"&gt;외항재-서봉-정상&lt;/p&gt;&lt;/td&gt;&lt;td class=\"tac\"&gt;&amp;nbsp;&amp;nbsp;&amp;nbsp;&amp;nbsp;&amp;nbsp;&amp;nbsp;&amp;nbsp; 6.0Km &lt;/td&gt;&lt;td class=\"tac\"&gt;&amp;nbsp;&amp;nbsp;&amp;nbsp;&amp;nbsp;&amp;nbsp;&amp;nbsp;&amp;nbsp;&amp;nbsp;&amp;nbsp;&amp;nbsp;&amp;nbsp;&amp;nbsp;&amp;nbsp; 02:20&lt;/td&gt;&lt;/tr&gt;&lt;tr&gt;&lt;td class=\"couse_st1\"&gt;&amp;nbsp;&amp;nbsp;&amp;nbsp; 2코스&lt;/td&gt;&lt;td&gt;&lt;p align=\"center\" style=\"text-align: center;\"&gt;신기마을-고헌사-곰지골-용샘-정상&lt;/p&gt;&lt;/td&gt;&lt;td class=\"tac\"&gt;&amp;nbsp;&amp;nbsp;&amp;nbsp;&amp;nbsp;&amp;nbsp;&amp;nbsp;&amp;nbsp;&amp;nbsp;8.6Km&lt;/td&gt;&lt;td class=\"tac\"&gt;&amp;nbsp;&amp;nbsp;&amp;nbsp;&amp;nbsp;&amp;nbsp;&amp;nbsp;&amp;nbsp;&amp;nbsp;&amp;nbsp;&amp;nbsp;&amp;nbsp;&amp;nbsp;&amp;nbsp; 03:20&lt;/td&gt;&lt;/tr&gt;&lt;tr&gt;&lt;td class=\"couse_st1\"&gt;&amp;nbsp;&amp;nbsp;&amp;nbsp; 3코스&lt;/td&gt;&lt;td&gt;&lt;p align=\"center\" style=\"text-align: center;\"&gt;&amp;nbsp;&amp;nbsp;&amp;nbsp; 다개리 마을회관-고래샘마을-다개저수지-정상&lt;/p&gt;&lt;/td&gt;&lt;td class=\"tac\"&gt;&amp;nbsp;&amp;nbsp;&amp;nbsp;&amp;nbsp;&amp;nbsp;&amp;nbsp;&amp;nbsp; 8.0Km&lt;/td&gt;&lt;td class=\"tac\"&gt;&amp;nbsp;&amp;nbsp;&amp;nbsp;&amp;nbsp;&amp;nbsp;&amp;nbsp;&amp;nbsp;&amp;nbsp;&amp;nbsp;&amp;nbsp;&amp;nbsp;&amp;nbsp;&amp;nbsp;&amp;nbsp;04:10&lt;br&gt;&lt;/td&gt;&lt;/tr&gt;&lt;/tbody&gt;&lt;/table&gt;&lt;p&gt;&lt;br&gt;o 등산로 관리 : 울주군 산림공원과 장보근 ☎ 052-204-1727&lt;br&gt;&lt;/p&gt;</addtCn><mdfcnDt>2021-12-18 14:02:27</mdfcnDt></list>, <list><unqId>8</unqId><title>대운산</title><intr>울주군 온양읍 운화리에서 양산시 웅상읍 명곡리와 삼호리에 걸쳐 있는 산</intr><roadNmAddr>울산광역시 울주군 온양읍 / 경남 양산시 웅상읍</roadNmAddr><lotnoAddr>울산광역시 울주군 온양읍 / 경남 양산시 웅상읍</lotnoAddr><rprsTelno>052-204-1727</rprsTelno><hmpgAddr/><lot>129.213488</lot><lat>35.401943</lat><cn>&lt;p&gt;울주군 온양읍 운화리와 양산시 웅상읍 명곡리에 걸쳐 있는 산으로 낙동정맥의 최고봉이며 원효대사의 마지막 수도지로 알려져 있다.&lt;br&gt;&lt;br&gt;경치가 빼어난 산은 아니지만 능선의 적당한 기복과 오르내림이 있어 산행하는 재미가 있다.&lt;br&gt;&lt;br&gt;또한, 대운산 능선에서 정상까지 3Km가 넘는 등산로 양쪽에는 진달래와 억새가 군락을 이루고 있어 때를 맞춰 오른다면 꽃속에 파묻혀 길을 걷는 즐거움을 맛볼 수 있다.&lt;br&gt;&lt;br&gt;이 산의 초명은 동국여지승람이나 오래된 읍지에 불광산으로 되어 있었으나 언제인가부터 대운산으로 불리워지고 있다.&lt;br&gt;&lt;/p&gt;</cn><addtCn>&lt;p&gt;o 해발 : 742m&lt;br&gt;&lt;br&gt;o 등산코스&lt;br&gt;&lt;/p&gt;&lt;table class=\"table_t1 __se_tbl_ext\" summary=\"대운산 등산코스에 대해 코스, 등산코스, 왕복거리, 왕복소요시간에 대해 나타낸 표 입니다.\"&gt;&lt;thead&gt;&lt;tr&gt;&lt;th scope=\"col\"&gt;&amp;nbsp; 코스&lt;/th&gt;&lt;th scope=\"col\"&gt;등산코스&lt;/th&gt;&lt;th scope=\"col\"&gt;&amp;nbsp; 왕복거리&lt;/th&gt;&lt;th scope=\"col\"&gt;&amp;nbsp;&amp;nbsp;&amp;nbsp;&amp;nbsp; 왕복소요시간&lt;/th&gt;&lt;/tr&gt;&lt;/thead&gt;&lt;tbody&gt;&lt;tr&gt;&lt;td class=\"couse_st1\"&gt;&amp;nbsp;&amp;nbsp; 1코스&lt;/td&gt;&lt;td&gt;&lt;p align=\"center\" style=\"text-align: center;\"&gt;&amp;nbsp; 대운산 제3주차장-내원암 계곡-대운산 정상-대운산 2봉-내원암 계곡-대운산 제3주차장&lt;/p&gt;&lt;/td&gt;&lt;td class=\"tac\"&gt;&amp;nbsp;&amp;nbsp;&amp;nbsp;&amp;nbsp;&amp;nbsp;&amp;nbsp; 7km&lt;/td&gt;&lt;td class=\"tac\"&gt;&amp;nbsp;&amp;nbsp;&amp;nbsp;&amp;nbsp;&amp;nbsp;&amp;nbsp;&amp;nbsp;&amp;nbsp;&amp;nbsp;&amp;nbsp;&amp;nbsp;&amp;nbsp; 03:30&lt;/td&gt;&lt;/tr&gt;&lt;tr&gt;&lt;td class=\"couse_st1\"&gt;&amp;nbsp;&amp;nbsp; 2코스&lt;/td&gt;&lt;td&gt;&lt;p align=\"center\" style=\"text-align: center;\"&gt;&amp;nbsp; 대운산 제3주차장-내원암 계곡-대운산 2봉-대운산 3봉-굴바위-상대마을-대운산 제3주차장&lt;/p&gt;&lt;/td&gt;&lt;td class=\"tac\"&gt;&amp;nbsp;&amp;nbsp;&amp;nbsp;&amp;nbsp;&amp;nbsp;&amp;nbsp;&amp;nbsp;8km&lt;/td&gt;&lt;td class=\"tac\"&gt;&amp;nbsp;&amp;nbsp;&amp;nbsp;&amp;nbsp;&amp;nbsp;&amp;nbsp;&amp;nbsp;&amp;nbsp;&amp;nbsp;&amp;nbsp;&amp;nbsp;&amp;nbsp; 04:00&lt;/td&gt;&lt;/tr&gt;&lt;/tbody&gt;&lt;/table&gt;&lt;p&gt;&lt;br&gt;o 등산로 관리 : 울주군 산림공원과 장보근 ☎ 052-204-1727 &lt;br&gt;&lt;/p&gt;</addtCn><mdfcnDt>2021-12-18 14:02:08</mdfcnDt></list>, <list><unqId>10</unqId><title>무룡산</title><intr>용이 춤을 추던 산</intr><roadNmAddr>울산광역시 북구 화봉동 / 연암동</roadNmAddr><lotnoAddr>울산광역시 북구 화봉동 산2-3번지 일원</lotnoAddr><rprsTelno/><hmpgAddr>https://www.bukgu.ulsan.kr/lay1/S1T1665C1669/contents.do</hmpgAddr><lot>129.397446</lot><lat>35.5909456</lat><cn>&lt;p&gt;해발 452m의 무룡산은 울산의 진산이며 지금은 방송 중계탑들이 세워진 중요한 역할을 담당하고 있는 영산이다.&lt;br&gt;강원도 태백산맥이 남으로 뻗으면서 그 한줄기가 경주 토함산을 이루고, 그 남쪽에는 동대산맥을 형성하면서 우뚝 솟은 준령이며 동대산맥이 만들어낸 울산의 진산이다.&lt;br&gt;무룡산이란 춤출 “무”〔舞〕자와 용 “룡”〔龍〕자 뫼“산”〔山〕자로서 용이 춤을 추던 산이라 한다.&lt;br&gt;&lt;br&gt;무룡산은 많은 전설을 간직하고 있는데 그 가운데 한가지 전설은 다음과 같다.&lt;br&gt;옛날에 무룡산 꼭대기에는 큰 연못이 있었다.&lt;br&gt;이 연못에는 일곱 마리의 용이 살고 있었는데 그 중 한 마리의 용이 눈이 멀어서 함께 있는 용들로부터 놀림을 받고 있었다.&lt;br&gt;그러던 어느날 갑자기 하늘에서 오색 구름이 찬란하더니 칠색 무지개가 쭉 뻗어 무룡산정 연못에 뿌리를 박은 것이다.&lt;br&gt;칠색 무지개를 타고 하늘의 옥황선녀 일곱이 이 연못에 내려와 칠룡들과 목욕을 하게 되었다.&lt;br&gt;눈먼 장님룡과는 아무도 놀고 싶어 하지 않았고 장님룡이 서러워 눈물을 흘리고 있는 것을 본 마음씨 착한 선녀가 다가와 장님룡을 보고 \"나하고 놀아요\" 하여 장님룡은 기뻐하였다.&lt;br&gt;다른 여섯 룡과 여섯 선녀들은 비웃기나 하면서 따로 놀았다.&lt;br&gt;목욕을 마치고 하늘로 올라갈 시간이 되어 여섯 룡과 여섯 선녀들은 정이 들어 떨어질 수가 없어 함께 오르기로 하였으나 눈먼 장님룡은 오를 수가 없어 눈물을 흘렸다.&lt;br&gt;그 때, 마음씨 착한 선녀가 장님룡과 같이 있기로 하고 여섯 선녀들에게 말하였다.&lt;br&gt;\"얘들아 하늘에 올라가거든 옥황상제 폐하께 너희들과 함께 오르지 못한 사정이야기를 하여다오.\"&lt;br&gt;여섯 선녀들은 까르르 웃으면서 쌍쌍이 짝을 지어 칠색 무지개를 타고 하늘로 올랐다.&lt;br&gt;선녀와 용들이 하늘로 오르던 그날부터 시커먼 먹구름이 일고 천지를 진동시키는 천둥을 치며 장대같은 비가 일주씩이나 퍼부었다.&lt;br&gt;하늘의 옥황상제가 노발대발 한 것이다.&lt;br&gt;일곱이 같이 갔으면 사이좋게 놀다 같이 올라와야지 하며 호통이었다.&lt;br&gt;그리하여 여섯 선녀와 여섯 룡을 지하로 내려보내 귀양살이를 하게 되었다.&lt;br&gt;한편 눈먼룡과 마음씨 착한 선녀는 옥황상제의 부름을 받고 하늘로 올라가 옥황의 조화로 눈을 뜬 후 짝을 지워 배필이 되고, 무룡산으로 내려와 귀양살이를 하던 선녀들은 날마다 수심에 잠겨 하늘나라만 쳐다보며 그래도 용들과 함께 살게 된 것을 행복해 하면서 날마다 춤을 추었다.&lt;br&gt;그런지 얼마후 옥황의 노여움이 풀어져서 선녀들과 용들을 하늘로 불러 올리니 춤을 추고 기뻐하면서 하늘로 득천하였다.&lt;br&gt;&lt;br&gt;이같은 전설이 담긴 무룡산정에는 그후 연못은 없어지고 그곳 주변이 대명지가 있다고 했으며 여기에 묘를 드리면 울산지역에 비가 오지 않았다.&lt;br&gt;가뭄이 들면 강동면, 농소면 외 지역주민들이 총동원하여 무룡산정으로 올라가 누가 묘를 드리지 않았나 하고 샅샅이 뒤진다.&lt;br&gt;묘가 발견되지 않도록 봉분을 하지 않고 평장의 묘를 드려 놓은 것이다. 묘를 파내고 나면 반드시 비가 온다는 것이었다.&lt;br&gt;&lt;/p&gt;</cn><addtCn>&lt;p&gt;o 해발 : 452m&lt;br&gt;&lt;br&gt;o 등산코스&lt;br&gt;&lt;/p&gt;&lt;table class=\"table_t1 __se_tbl_ext\" summary=\"무룡산 등산코스에 대해 코스, 등산코스, 왕복거리, 왕복소요시간에 대해 나타낸 표 입니다.\"&gt;&lt;thead&gt;&lt;tr&gt;&lt;th scope=\"col\"&gt;&amp;nbsp; 코스&lt;/th&gt;&lt;th scope=\"col\"&gt;등산코스&lt;/th&gt;&lt;th scope=\"col\"&gt;왕복거리&lt;/th&gt;&lt;th scope=\"col\"&gt;&amp;nbsp;&amp;nbsp;&amp;nbsp;&amp;nbsp;&amp;nbsp; 왕복소요시간&lt;/th&gt;&lt;/tr&gt;&lt;/thead&gt;&lt;tbody&gt;&lt;tr&gt;&lt;td class=\"couse_st1\"&gt;&lt;p align=\"center\" style=\"text-align: center;\"&gt;&amp;nbsp;&amp;nbsp; 1코스&lt;/p&gt;&lt;/td&gt;&lt;td&gt;&lt;p align=\"center\" style=\"text-align: center;\"&gt;화동못 - 돌빼기재 - 매봉재 - 정상 &lt;/p&gt;&lt;/td&gt;&lt;td class=\"tac\"&gt;&lt;p align=\"center\" style=\"text-align: center;\"&gt;7.6km&lt;/p&gt;&lt;/td&gt;&lt;td class=\"tac\"&gt;&lt;p align=\"center\" style=\"text-align: center;\"&gt;2:40&lt;/p&gt;&lt;/td&gt;&lt;/tr&gt;&lt;tr&gt;&lt;td class=\"couse_st1\"&gt;&lt;p align=\"center\" style=\"text-align: center;\"&gt;&amp;nbsp;&amp;nbsp; 2코스&lt;/p&gt;&lt;/td&gt;&lt;td&gt;&lt;p align=\"center\" style=\"text-align: center;\"&gt;효문운동장 - 매봉재 - 정상 &lt;/p&gt;&lt;/td&gt;&lt;td class=\"tac\"&gt;&lt;p align=\"center\" style=\"text-align: center;\"&gt;6.0km&lt;/p&gt;&lt;/td&gt;&lt;td class=\"tac\"&gt;&lt;p align=\"center\" style=\"text-align: center;\"&gt;2:00&lt;/p&gt;&lt;/td&gt;&lt;/tr&gt;&lt;tr&gt;&lt;td class=\"couse_st1\"&gt;&lt;p align=\"center\" style=\"text-align: center;\"&gt;&amp;nbsp;&amp;nbsp; 3코스&lt;/p&gt;&lt;/td&gt;&lt;td&gt;&lt;p align=\"center\" style=\"text-align: center;\"&gt;오토밸리 - 매봉재 - 정상&lt;/p&gt;&lt;/td&gt;&lt;td class=\"tac\"&gt;&lt;p align=\"center\" style=\"text-align: center;\"&gt;5.4km&lt;/p&gt;&lt;/td&gt;&lt;td class=\"tac\"&gt;&lt;p align=\"center\" style=\"text-align: center;\"&gt;1:50&lt;/p&gt;&lt;/td&gt;&lt;/tr&gt;&lt;tr&gt;&lt;td class=\"couse_st1\"&gt;&lt;p align=\"center\" style=\"text-align: center;\"&gt;&amp;nbsp;&amp;nbsp; 4코스&lt;/p&gt;&lt;/td&gt;&lt;td&gt;&lt;p align=\"center\" style=\"text-align: center;\"&gt;도솔암 - 돌빼기재 - 매봉재 - 정상&lt;/p&gt;&lt;/td&gt;&lt;td class=\"tac\"&gt;&lt;p align=\"center\" style=\"text-align: center;\"&gt;6.5km&lt;/p&gt;&lt;/td&gt;&lt;td class=\"tac\"&gt;&lt;p align=\"center\" style=\"text-align: center;\"&gt;2:20 &lt;/p&gt;&lt;/td&gt;&lt;/tr&gt;&lt;tr&gt;&lt;td class=\"couse_st1\"&gt;&lt;p align=\"center\" style=\"text-align: center;\"&gt;&amp;nbsp;&amp;nbsp; 5코스&lt;/p&gt;&lt;/td&gt;&lt;td&gt;&lt;p align=\"center\" style=\"text-align: center;\"&gt;&amp;nbsp;&amp;nbsp;&amp;nbsp;&amp;nbsp;&amp;nbsp;&amp;nbsp;&amp;nbsp; 송정 박상진호수공원 - 무룡임도 - 음수대 삼거리 - 정상&lt;/p&gt;&lt;/td&gt;&lt;td class=\"tac\"&gt;&lt;p align=\"center\" style=\"text-align: center;\"&gt;14.6km&lt;/p&gt;&lt;/td&gt;&lt;td class=\"tac\"&gt;&lt;p align=\"center\" style=\"text-align: center;\"&gt;4:10&lt;/p&gt;&lt;/td&gt;&lt;/tr&gt;&lt;/tbody&gt;&lt;/table&gt;&lt;p&gt;&lt;br&gt;&lt;/p&gt;</addtCn><mdfcnDt>2021-12-18 14:01:05</mdfcnDt></list>, <list><unqId>12</unqId><title>문복산</title><intr>영남알프스 9봉</intr><roadNmAddr>경북 청도군 운문면 / 경주시 산내면</roadNmAddr><lotnoAddr>경북 청도군 운문면 / 경주시 산내면</lotnoAddr><rprsTelno/><hmpgAddr>https://tour.ulsan.go.kr/board/list.ulsan?boardId=ATTRACTION&amp;menuCd=DOM_000000102001000000&amp;orderBy=&amp;categoryCode1=C001&amp;contentsSid=257&amp;startPage=1</hmpgAddr><lot>129.0347</lot><lat>35.677323</lat><cn>&lt;p&gt;&lt;span style=\"color: rgb(51, 51, 51);\"&gt;문복산은 청도군 운문면, 경주시 산내면과 울주군 상북면의 경계에 위치한 산으로 신라화랑이 무술을 연마하던 곳이다.&lt;br&gt;문복산은 영남알프스 북쪽 변방에 자리하여 경주와 청도의 경계를 가르며 우뚝 솟아있는 산이다.&lt;br&gt;이웃한 가지산, 운문산, 재약산의 명성에 가려져 일반 등산객의 발길이 뜸한 곳이라 인파를 피해 호젓한 산행을 즐기기엔 안성맞춤이다. &lt;br&gt;&lt;br&gt;가슬갑사 유적지가 있는 계살피계곡이 알려지면서 최근에는 찾는 이가 늘었다.&lt;br&gt;가슬갑사는 원광국사가 머물던 곳으로 좌우명을 묻는 화랑 추항과 귀산에게 세속 오계를 내려 화랑정신의 발원지가 되었다.&lt;br&gt;지금은 가슬갑사 터만 알려주는 비석이 하나 있을 뿐 절의 모습은 온데간데없지만 계곡을 걷다보면 화랑의 높은 함성이 들리는 듯하다.&lt;br&gt;주능선은 단석산~고헌산~영남알프스로 이어지는 낙동정맥의 전망대 구실을 하며, 주로 경주 산내면 중말, 청도쪽 삼계리, 운문령에서 오르는 길이 일반적이다.&amp;nbsp;&lt;/span&gt;&amp;nbsp;&lt;/p&gt;</cn><addtCn>&lt;p&gt;o 해발 :&amp;nbsp;1,015m&lt;/p&gt;&lt;p&gt;&lt;br&gt;o 등산코스&lt;br&gt;&lt;/p&gt;&lt;div align=\"center\" style=\"text-align: center;\"&gt;&lt;/div&gt;&lt;div align=\"center\" style=\"text-align: center;\"&gt;&lt;/div&gt;&lt;div align=\"center\" style=\"text-align: center;\"&gt;&lt;/div&gt;&lt;div align=\"center\" style=\"text-align: center;\"&gt;&lt;/div&gt;&lt;table class=\"table_t1 __se_tbl_ext\" summary=\"문복산 등산코스\"&gt;&lt;thead&gt;&lt;tr&gt;&lt;th scope=\"col\"&gt;&lt;p align=\"center\" style=\"text-align: center;\"&gt;지역&lt;/p&gt;&lt;/th&gt;&lt;th scope=\"col\"&gt;코스&lt;/th&gt;&lt;th scope=\"col\"&gt;&amp;nbsp; 등산코스&lt;/th&gt;&lt;th scope=\"col\"&gt;왕복거리&lt;/th&gt;&lt;th scope=\"col\"&gt;&amp;nbsp;&amp;nbsp;&amp;nbsp; 왕복소요시간&lt;/th&gt;&lt;/tr&gt;&lt;/thead&gt;&lt;tbody&gt;&lt;tr&gt;&lt;td class=\"tac fwb\"&gt;&lt;p align=\"center\" style=\"text-align: center;\"&gt;울산&lt;/p&gt;&lt;/td&gt;&lt;td class=\"couse_st1\"&gt;&lt;p align=\"center\" style=\"text-align: center;\"&gt;1코스&lt;/p&gt;&lt;/td&gt;&lt;td&gt;&lt;p align=\"center\" style=\"text-align: center;\"&gt;&amp;nbsp;&amp;nbsp;&amp;nbsp; 운문령-문복산 남봉-정상&lt;/p&gt;&lt;/td&gt;&lt;td class=\"tac\"&gt;&lt;p align=\"center\" style=\"text-align: center;\"&gt;8.6Km&lt;/p&gt;&lt;/td&gt;&lt;td class=\"tac\"&gt;&lt;p align=\"center\" style=\"text-align: center;\"&gt;03:40&lt;/p&gt;&lt;/td&gt;&lt;/tr&gt;&lt;tr&gt;&lt;td class=\"tac fwb\"&gt;&lt;p align=\"center\" style=\"text-align: center;\"&gt;청도&lt;/p&gt;&lt;/td&gt;&lt;td class=\"couse_st1\"&gt;&lt;p align=\"center\" style=\"text-align: center;\"&gt;1코스&lt;/p&gt;&lt;/td&gt;&lt;td&gt;&lt;p align=\"center\" style=\"text-align: center;\"&gt;&amp;nbsp;&amp;nbsp;&amp;nbsp;&amp;nbsp;&amp;nbsp;&amp;nbsp;&amp;nbsp;&amp;nbsp;&amp;nbsp;&amp;nbsp; 삼계2교-계살피계곡-가슬갑사유적지-정상&lt;/p&gt;&lt;/td&gt;&lt;td class=\"tac\"&gt;&lt;p align=\"center\" style=\"text-align: center;\"&gt;7.2Km &lt;/p&gt;&lt;/td&gt;&lt;td class=\"tac\"&gt;&lt;p align=\"center\" style=\"text-align: center;\"&gt;03:50 &lt;/p&gt;&lt;/td&gt;&lt;/tr&gt;&lt;/tbody&gt;&lt;/table&gt;&lt;p&gt;&lt;br&gt;&lt;/p&gt;</addtCn><mdfcnDt>2021-12-18 13:57:26</mdfcnDt></list>, <list><unqId>9</unqId><title>문수산</title><intr>문수보살이 머물렀다 하여 문수산이라 불리며 축선사, 망해사, 문수사, 영취사 등 4개의 절이 자리 잡고 있는 산</intr><roadNmAddr>울산광역시 울주군 청량면, 삼동면, 범서읍</roadNmAddr><lotnoAddr>울산광역시 울주군 청량면, 삼동면, 범서읍</lotnoAddr><rprsTelno>052-204-1727</rprsTelno><hmpgAddr/><lot>129.214246</lot><lat>35.535329</lat><cn>&lt;p&gt;울주군 청량면과 삼동면, 범서읍에 걸쳐 있는 문수산은 청량하고 신라때 문수보살이 산세가 청량하고 아름다워 여기에 와서 살았다는데서 처음에는 청량산으로 불렀다.&lt;br&gt;&lt;br&gt;이 산에는 전통사찰인 문수사가 있다.&lt;br&gt;&lt;br&gt;신라 제27대 선덕여왕 15년(646)에 자장율사가 세웠다고 한다.&lt;br&gt;&lt;br&gt;문수산이나 문수사는 불가의 문수보살의 이름을 딴 것이다. &lt;br&gt;&lt;/p&gt;</cn><addtCn>&lt;p&gt;o 해발 : 600m&lt;br&gt;&lt;br&gt;o 등산코스&lt;br&gt;&lt;/p&gt;&lt;div align=\"center\" style=\"text-align: center;\"&gt;&lt;/div&gt;&lt;div align=\"center\" style=\"text-align: center;\"&gt;&lt;/div&gt;&lt;div align=\"center\" style=\"text-align: center;\"&gt;&lt;/div&gt;&lt;table class=\"table_t1 __se_tbl_ext\" summary=\"문수산 등산코스에 대해 코스, 등산코스, 왕복거리, 왕복소요시간에대해 나타낸 표 입니다.\"&gt;&lt;thead&gt;&lt;tr&gt;&lt;th scope=\"col\"&gt;&lt;p align=\"center\" style=\"text-align: center;\"&gt;&amp;nbsp;&amp;nbsp;&amp;nbsp; 코스&lt;/p&gt;&lt;/th&gt;&lt;th scope=\"col\"&gt;등산코스&lt;/th&gt;&lt;th scope=\"col\"&gt;&amp;nbsp;&amp;nbsp; 왕복거리&lt;/th&gt;&lt;th scope=\"col\"&gt;&amp;nbsp;&amp;nbsp; 왕복소요시간&lt;/th&gt;&lt;/tr&gt;&lt;/thead&gt;&lt;tbody&gt;&lt;tr&gt;&lt;td class=\"couse_st1\"&gt;&lt;p align=\"center\" style=\"text-align: center;\"&gt;&amp;nbsp;&amp;nbsp;&amp;nbsp; 1코스&lt;/p&gt;&lt;/td&gt;&lt;td&gt;&lt;p align=\"center\" style=\"text-align: center;\"&gt;&amp;nbsp;&amp;nbsp;&amp;nbsp;&amp;nbsp;&amp;nbsp;&amp;nbsp; 율리농협-깔딱고개-문수산 정상-깔딱고개-율리농협&lt;/p&gt;&lt;/td&gt;&lt;td class=\"tac\"&gt;&lt;p align=\"center\" style=\"text-align: center;\"&gt;&amp;nbsp;&amp;nbsp;&amp;nbsp; 7km&lt;/p&gt;&lt;/td&gt;&lt;td class=\"tac\"&gt;&lt;p align=\"center\" style=\"text-align: center;\"&gt;&amp;nbsp; 03:30&lt;/p&gt;&lt;/td&gt;&lt;/tr&gt;&lt;tr&gt;&lt;td class=\"couse_st1\"&gt;&lt;p align=\"center\" style=\"text-align: center;\"&gt;&amp;nbsp;&amp;nbsp;&amp;nbsp; 2코스&lt;/p&gt;&lt;/td&gt;&lt;td&gt;&lt;p align=\"center\" style=\"text-align: center;\"&gt;&amp;nbsp;&amp;nbsp;&amp;nbsp;&amp;nbsp;&amp;nbsp;&amp;nbsp; 범서천상-깔딱고개-문수산 정상-깔딱고개-율리농협&lt;/p&gt;&lt;/td&gt;&lt;td class=\"tac\"&gt;&lt;p align=\"center\" style=\"text-align: center;\"&gt;&amp;nbsp;&amp;nbsp;&amp;nbsp;&amp;nbsp; 6.8km&lt;/p&gt;&lt;/td&gt;&lt;td class=\"tac\"&gt;&lt;p align=\"center\" style=\"text-align: center;\"&gt;&amp;nbsp;&amp;nbsp;03:10&lt;/p&gt;&lt;/td&gt;&lt;/tr&gt;&lt;/tbody&gt;&lt;/table&gt;&lt;p&gt;&lt;br&gt;o 등산로 관리 : 울주군 산림공원과 장보근 ☎ 052-204-1727&lt;br&gt;&lt;/p&gt;</addtCn><mdfcnDt>2021-12-18 14:01:36</mdfcnDt></list>, <list><unqId>3</unqId><title>신불산</title><intr>가지산과 간월산에 이어져 영축산에 이르는 주봉으로 알려져 있는 고산</intr><roadNmAddr>울산광역시 울주군 상북면, 삼남읍</roadNmAddr><lotnoAddr>울산광역시 울주군 상북면, 삼남읍</lotnoAddr><rprsTelno>052-204-1727</rprsTelno><hmpgAddr/><lot>129.054132</lot><lat>35.539546</lat><cn>&lt;p&gt;&lt;span style=\"color: rgb(37, 37, 37);\"&gt;신불산은 1983년에 울주군 군립공원으로 지정되었다.&lt;br&gt;울주군 상북면과 삼남읍 경계에 걸쳐 있으며 간월산, 영축산과 형제봉을 이룬다.&lt;br&gt;영축산 사이 약 3km 구간에는 넓고 평탄한 능선이 이어지면서 억새밭이 펼쳐진다.&lt;br&gt;억새를 보며 등산의 백미를 느낄 수 있고 패러글라이딩도 즐길 수 있다.&lt;br&gt;신불산은 신성하고 밝은 산이란 의미를 가지고 있으며, 옛날에는 독립된 산 이름 없이 단조봉(丹鳥峰) 혹은 왕봉(王峰)으로 불렸다.&lt;br&gt;단조산성, 파래소폭포, 신불산폭포자연휴양림, 배내골, 홍류폭포, 자수정동굴나라, 작괘천이 있어 수많은 등산객이 찾고 있다.&lt;br&gt;&amp;nbsp;&lt;/span&gt;&lt;/p&gt;&lt;p&gt;&lt;span style=\"color: rgb(37, 37, 37);\"&gt;신불산억새평원은 '울산 12경'의 하나로 재약산 사자평과 더불어 전국 최고 억새평원이다.&lt;br&gt;봄이면 억새밭의 파릇파릇한 새순을, 가을이면 은빛 물결이 일렁이는 억새를 보기 위해서 수많은 등산객이 몰려든다.&lt;br&gt;푸른 물이 뚝뚝 흘러내릴 듯한 가을 하늘과, 밥물 끓어 넘치듯 피어난 억새꽃은 보는 이의 숨을 멎게 할 정도다.&lt;br&gt;그러나, 이런 아름다운 억새꽃도 10월이 절정기이고, 11월에 접어들면 고산지대라 억새의 허리가 꺾이고 흰 눈 같은 억새꽃이 다 져버려 전성기를 지나버리게 된다.&lt;br&gt;&amp;nbsp;&lt;/span&gt;&lt;/p&gt;&lt;p&gt;&lt;span style=\"color: rgb(37, 37, 37);\"&gt;금강골 바위절벽은 금강산 만물상을 연상시킬 만큼 아름답고, 신불공룡능선은 영남알프스 최고의 험한 암벽 능선으로 등산객의 사랑을 받고 있다.&lt;br&gt;금강골에 있는 금강폭포는 겨울철 빙벽 등반가의 훈련장소이고, 아리랑, 쓰리랑, 에베로리지는 암벽 등반가가 즐겨 찾는 곳이다.&lt;/span&gt;&amp;nbsp;&lt;/p&gt;</cn><addtCn>&lt;p&gt;o 해발 : 1,159m&lt;br&gt;o 등산코스&lt;br&gt;&lt;/p&gt;&lt;table class=\"table_t1 __se_tbl_ext\" summary=\"신불산 등산코스\"&gt;&lt;thead&gt;&lt;tr&gt;&lt;th scope=\"col\"&gt;코스&lt;/th&gt;&lt;th scope=\"col\"&gt;&amp;nbsp;&amp;nbsp;&amp;nbsp;&amp;nbsp;&amp;nbsp;&amp;nbsp; 등산코스&lt;/th&gt;&lt;th scope=\"col\"&gt;&amp;nbsp;&amp;nbsp;&amp;nbsp; 왕복거리&lt;/th&gt;&lt;th scope=\"col\"&gt;&amp;nbsp;&amp;nbsp;&amp;nbsp;&amp;nbsp;&amp;nbsp;&amp;nbsp; 왕복소요시간&lt;/th&gt;&lt;/tr&gt;&lt;/thead&gt;&lt;tbody&gt;&lt;tr&gt;&lt;td class=\"couse_st1\"&gt;1코스&lt;/td&gt;&lt;td&gt;&amp;nbsp;&amp;nbsp;&amp;nbsp;&amp;nbsp;&amp;nbsp;&amp;nbsp;&amp;nbsp;&amp;nbsp; 가천마을-건민목장-신불재-정상&lt;/td&gt;&lt;td class=\"tac\"&gt;&amp;nbsp;&amp;nbsp;&amp;nbsp;&amp;nbsp;&amp;nbsp;&amp;nbsp;&amp;nbsp; 9.0Km &lt;/td&gt;&lt;td class=\"tac\"&gt;&amp;nbsp;&amp;nbsp;&amp;nbsp;&amp;nbsp;&amp;nbsp;&amp;nbsp;&amp;nbsp;&amp;nbsp;&amp;nbsp;&amp;nbsp;&amp;nbsp;&amp;nbsp;&amp;nbsp;&amp;nbsp; 04:10&lt;/td&gt;&lt;/tr&gt;&lt;tr&gt;&lt;td class=\"couse_st1\"&gt;2코스&lt;/td&gt;&lt;td&gt;&amp;nbsp;&amp;nbsp;&amp;nbsp;&amp;nbsp; 간월산장-홍류폭포-신불공룡능선-정상&lt;/td&gt;&lt;td class=\"tac\"&gt;&amp;nbsp;&amp;nbsp;&amp;nbsp;&amp;nbsp;&amp;nbsp;&amp;nbsp;&amp;nbsp; 5.4Km&lt;/td&gt;&lt;td class=\"tac\"&gt;&amp;nbsp;&amp;nbsp;&amp;nbsp;&amp;nbsp;&amp;nbsp;&amp;nbsp;&amp;nbsp;&amp;nbsp;&amp;nbsp;&amp;nbsp;&amp;nbsp;&amp;nbsp;&amp;nbsp;&amp;nbsp;&amp;nbsp;03:40&lt;/td&gt;&lt;/tr&gt;&lt;tr&gt;&lt;td class=\"couse_st1\"&gt;3코스&lt;/td&gt;&lt;td&gt;&amp;nbsp;&amp;nbsp;&amp;nbsp;&amp;nbsp;&amp;nbsp; 자수정동굴주차장-신불공룡능선-정상&lt;/td&gt;&lt;td class=\"tac\"&gt;&amp;nbsp;&amp;nbsp;&amp;nbsp;&amp;nbsp;&amp;nbsp;&amp;nbsp;&amp;nbsp;&amp;nbsp;8.0Km&lt;/td&gt;&lt;td class=\"tac\"&gt;&amp;nbsp;&amp;nbsp;&amp;nbsp;&amp;nbsp;&amp;nbsp;&amp;nbsp;&amp;nbsp;&amp;nbsp;&amp;nbsp;&amp;nbsp;&amp;nbsp;&amp;nbsp;&amp;nbsp;&amp;nbsp; 04:40&lt;/td&gt;&lt;/tr&gt;&lt;/tbody&gt;&lt;/table&gt;&lt;p&gt;o 등산로 관리 : 울주군 산림공원과 장보근 ☎ 052-204-1727&lt;br&gt;&lt;/p&gt;</addtCn><mdfcnDt>2021-12-18 14:04:09</mdfcnDt></list>, <list><unqId>4</unqId><title>영축산</title><intr>기암괴석과 노송, 신불산 정상으로 이어지는 억새능선이 장관을 이루고 있는 산</intr><roadNmAddr>울산광역시 울주군 삼남읍, 상북면 / 경남 양산시 하북면, 원동면</roadNmAddr><lotnoAddr>울산광역시 울주군 삼남읍, 상북면 / 경남 양산시 하북면, 원동면</lotnoAddr><rprsTelno>052-204-1727</rprsTelno><hmpgAddr/><lot>129.053228</lot><lat>35.515936</lat><cn>&lt;p&gt;&lt;span style=\"color: rgb(37, 37, 37);\"&gt;영축산은 울주군 삼남읍, 상북면, 양산시 하북면과 원동면 경계에 위치하고 있다.&lt;br&gt;병풍처럼 둘러싸인 기암괴석과 노송, 영축산 정상에서 신불산 정상까지 이어지는 억새능선이 장관을 이루고 있다.&lt;br&gt;&amp;nbsp;&lt;/span&gt;&lt;/p&gt;&lt;p&gt;&lt;span style=\"color: rgb(37, 37, 37);\"&gt;영축산은 불교의 발상국인 인도의 영취산에서 연유된 것으로 추측되며 이 산의 모습이 독수리 머리를 닮았다 하여 붙은 이름이다.&lt;br&gt;언양이나 신불산 쪽에서 거대한 바위봉을 바라보면 마치 큰 독수리가 동해로 날기 위해 머리를 조아리고 날개를 펴는 모습을 하고 있다.&lt;br&gt;&amp;nbsp;&lt;/span&gt;&lt;/p&gt;&lt;p&gt;&lt;span style=\"color: rgb(37, 37, 37);\"&gt;영축산 아래에는 우리나라 삼보사찰 중의 하나인 통도사가 있어 대웅전과 금강계단, 사리탑, 국장생석표, 대광명전, 구룡신지, 일주문, 사천왕상 등의 유명한 역사유물을 간직하고 있다.&lt;br&gt;능선에 오르면 60여 만 평의 억새평원을 볼 수 있는데 이 억새평원을 가로지르는 긴 돌담이 단조성(丹鳥城)이다.&lt;br&gt;현재 이 돌담은 서북쪽으로는 많이 허물어졌으나 동남쪽으로는 옛 모습을 보존하고 있다.&lt;br&gt;&amp;nbsp;&lt;/span&gt;&lt;/p&gt;&lt;p&gt;&lt;span style=\"color: rgb(37, 37, 37);\"&gt;암행어사 박문수가 영남을 시찰하는 도중 이 산성에 올라 \"산성의 험준함이 한명의 장부가 만 명의 적을 당해낼 수 있는 곳\"이라고 말해 이곳이 천연의 요새임을 알려주고 있다.&lt;br&gt;하지만 임진왜란 당시 의병이 흘린 피가 얼마나 많았던지 피로 못을 이루었다는 이야기가 전해오고 있다.&lt;br&gt;지금도 이 지역 마을사람들은 백발등으로 쳐들어온 왜병을 원망하며 \"원수로다 원수로다, 백발등이 원수로다\"라는 노래를 부른다.&lt;/span&gt;&amp;nbsp;&lt;/p&gt;</cn><addtCn>&lt;p&gt;o 해발 : 1,081m&lt;br&gt;&lt;br&gt;o 등산코스&lt;br&gt;&lt;/p&gt;&lt;div align=\"center\" style=\"text-align: center;\"&gt;&lt;/div&gt;&lt;div align=\"center\" style=\"text-align: center;\"&gt;&lt;/div&gt;&lt;div align=\"center\" style=\"text-align: center;\"&gt;&lt;/div&gt;&lt;div align=\"center\" style=\"text-align: center;\"&gt;&lt;/div&gt;&lt;table class=\"table_t1 __se_tbl_ext\" summary=\"영축산 등산코스에 대해 지역, 코스, 등산코스, 왕복거리, 왕복소요시간에 대해 나타낸 표 입니다.\"&gt;&lt;thead&gt;&lt;tr&gt;&lt;th scope=\"col\"&gt;&lt;p align=\"center\" style=\"text-align: center;\"&gt;&amp;nbsp; 지역&lt;/p&gt;&lt;/th&gt;&lt;th scope=\"col\"&gt;코스&lt;/th&gt;&lt;th scope=\"col\"&gt;등산코스&lt;/th&gt;&lt;th scope=\"col\"&gt;왕복거리&lt;/th&gt;&lt;th scope=\"col\"&gt;왕복소요시간&lt;/th&gt;&lt;/tr&gt;&lt;/thead&gt;&lt;tbody&gt;&lt;tr&gt;&lt;td class=\"tac fwb\" rowspan=\"3\"&gt;&lt;p align=\"center\" style=\"text-align: center;\"&gt;&amp;nbsp; 울산&lt;/p&gt;&lt;/td&gt;&lt;td class=\"couse_st1\"&gt;&lt;p align=\"center\" style=\"text-align: center;\"&gt;1코스&lt;/p&gt;&lt;/td&gt;&lt;td&gt;&lt;p align=\"center\" style=\"text-align: center;\"&gt;방기리-골드그린CC-취서산장-정상&lt;/p&gt;&lt;/td&gt;&lt;td class=\"tac\"&gt;&lt;p align=\"center\" style=\"text-align: center;\"&gt;8.0Km &lt;/p&gt;&lt;/td&gt;&lt;td class=\"tac\"&gt;&lt;p align=\"center\" style=\"text-align: center;\"&gt;02:30&lt;/p&gt;&lt;/td&gt;&lt;/tr&gt;&lt;tr&gt;&lt;td class=\"bol1 couse_st1\"&gt;&lt;p align=\"center\" style=\"text-align: center;\"&gt;2코스&lt;/p&gt;&lt;/td&gt;&lt;td&gt;&lt;p align=\"center\" style=\"text-align: center;\"&gt;깊은내마을-장제마을-금강골-금강계곡-금강폭포-정상 &lt;/p&gt;&lt;/td&gt;&lt;td class=\"tac\"&gt;&lt;p align=\"center\" style=\"text-align: center;\"&gt;9.0Km&lt;/p&gt;&lt;/td&gt;&lt;td class=\"tac\"&gt;&lt;p align=\"center\" style=\"text-align: center;\"&gt;04:20&lt;/p&gt;&lt;/td&gt;&lt;/tr&gt;&lt;tr&gt;&lt;td class=\"bol1 couse_st1\"&gt;&lt;p align=\"center\" style=\"text-align: center;\"&gt;3코스&lt;/p&gt;&lt;/td&gt;&lt;td&gt;&lt;p align=\"center\" style=\"text-align: center;\"&gt;한일주유소-가천회관-건민목장-샘터-신불산대피소-신불재-정상 &lt;/p&gt;&lt;/td&gt;&lt;td class=\"tac\"&gt;&lt;p align=\"center\" style=\"text-align: center;\"&gt;12.0Km&lt;/p&gt;&lt;/td&gt;&lt;td class=\"tac\"&gt;&lt;p align=\"center\" style=\"text-align: center;\"&gt;05:40&lt;/p&gt;&lt;/td&gt;&lt;/tr&gt;&lt;tr&gt;&lt;td class=\"tac fwb\" rowspan=\"4\"&gt;&lt;p align=\"center\" style=\"text-align: center;\"&gt;&amp;nbsp; 양산&lt;/p&gt;&lt;/td&gt;&lt;td class=\"bol1 couse_st1\"&gt;&lt;p align=\"center\" style=\"text-align: center;\"&gt;1코스&lt;/p&gt;&lt;/td&gt;&lt;td&gt;&lt;p align=\"center\" style=\"text-align: center;\"&gt;하북지내마을(양산시 하북면 지산리)-취서산장-정상&lt;/p&gt;&lt;/td&gt;&lt;td class=\"tac\"&gt;&lt;p align=\"center\" style=\"text-align: center;\"&gt;6.0Km&lt;/p&gt;&lt;/td&gt;&lt;td class=\"tac\"&gt;&lt;p align=\"center\" style=\"text-align: center;\"&gt;04:00&lt;/p&gt;&lt;/td&gt;&lt;/tr&gt;&lt;tr&gt;&lt;td class=\"bol1 couse_st1\"&gt;&lt;p align=\"center\" style=\"text-align: center;\"&gt;2코스&lt;/p&gt;&lt;/td&gt;&lt;td&gt;&lt;p align=\"center\" style=\"text-align: center;\"&gt;극락암-백운암-함박등-정상 &lt;/p&gt;&lt;/td&gt;&lt;td class=\"tac\"&gt;&lt;p align=\"center\" style=\"text-align: center;\"&gt;7.8Km&lt;/p&gt;&lt;/td&gt;&lt;td class=\"tac\"&gt;&lt;p align=\"center\" style=\"text-align: center;\"&gt;05:20&lt;br&gt;&lt;/p&gt;&lt;/td&gt;&lt;/tr&gt;&lt;tr&gt;&lt;td class=\"bol1 couse_st1\"&gt;&lt;p align=\"center\" style=\"text-align: center;\"&gt;3코스&lt;/p&gt;&lt;/td&gt;&lt;td&gt;&lt;p align=\"center\" style=\"text-align: center;\"&gt;서축암-시살등-죽바우등-함박등-정상&lt;/p&gt;&lt;/td&gt;&lt;td class=\"tac\"&gt;&lt;p align=\"center\" style=\"text-align: center;\"&gt;13.2Km &lt;/p&gt;&lt;/td&gt;&lt;td class=\"tac\"&gt;&lt;p align=\"center\" style=\"text-align: center;\"&gt;09:00&lt;/p&gt;&lt;/td&gt;&lt;/tr&gt;&lt;tr&gt;&lt;td class=\"bol1 couse_st1\"&gt;&lt;p align=\"center\" style=\"text-align: center;\"&gt;4코스&lt;/p&gt;&lt;/td&gt;&lt;td&gt;&lt;p align=\"center\" style=\"text-align: center;\"&gt;원동장선마을-시살등-죽바우등-함박등-정상&lt;/p&gt;&lt;/td&gt;&lt;td class=\"tac\"&gt;&lt;p align=\"center\" style=\"text-align: center;\"&gt;14.6Km&lt;/p&gt;&lt;/td&gt;&lt;td class=\"tac\"&gt;&lt;p align=\"center\" style=\"text-align: center;\"&gt;10:00&lt;br&gt;&lt;/p&gt;&lt;/td&gt;&lt;/tr&gt;&lt;/tbody&gt;&lt;/table&gt;&lt;p&gt;&lt;br&gt;o 등산로 관리 : 울주군 산림공원과 장보근 ☎ 052-204-1727 &lt;br&gt;&lt;/p&gt;</addtCn><mdfcnDt>2021-12-18 14:03:38</mdfcnDt></list>, <list><unqId>11</unqId><title>운문산</title><intr>영남알프스산군 중 경관이 가장 아름답다고 알려져 있는 산</intr><roadNmAddr>경북 청도군 운문면 / 경남 밀양시 산내면</roadNmAddr><lotnoAddr>경북 청도군 운문면 / 경남 밀양시 산내면</lotnoAddr><rprsTelno/><hmpgAddr/><lot>128.959794</lot><lat>35.615682</lat><cn>&lt;p&gt;&lt;span style=\"color: rgb(37, 37, 37);\"&gt;운문산은 청도군 운문면과 밀양시 산내면의 경계에 있는 명산이다. 이 산은 운문사와 더불어 수려한 고봉준령과 깊은 골짜기로 유명하며, 산림청이 선정한&amp;nbsp;우리나라 100대 명산에 속한다.&lt;/span&gt;&lt;br&gt;&lt;br&gt;&lt;span style=\"color: rgb(37, 37, 37);\"&gt;운문산은 많은 이름을 갖고 있다. 청도 쪽에서는 산세가 험준하다 하여 호거산, 밀양 쪽에서는 산의 모양이 한 덩이 바위처럼 생겼다하여 한바위산이라 불렸다. 이곳은 신라 화랑들이 심신을 단련하던 곳이며, 비구니 도량인 운문사가 있는 곳이다.&lt;br&gt;&lt;br&gt;운문사는 일연 스님이 '삼국유사' 집필을 시작한 천년고찰로 국내 최대 규모 비구니 교육의 전당이다. 동구 밖 솔 숲길을 지나 경내에 들어서면 삼월 삼짇날마다 막걸리 열두 말을 마신다는 처진 소나무, 까치 전설을 담고 있는 작압전, 정갈한 절 마당이 찾는 이를 반긴다. 운문사에서 울리는 새벽 종소리와 새벽 경치는 청도8경 중 하나이다.&lt;br&gt;&lt;br&gt;산세는 남쪽으로 급하고 능선이 짧은 반면 북쪽으로 능선이 길고 완만하여 대조를 이루고 있다. 아랫재에서 심심이골을 통해 운문사까지, 학소대폭포에서 큰골을 통해 운문사까지, 천문지골에서 못골을 통해 운문사까지 걷는 계곡길은 매우 아름다운 곳으로 등산객이 끊이지 않는다.&lt;/span&gt;&lt;span style=\"color: rgb(37, 37, 37);\"&gt;&amp;nbsp;&lt;/span&gt;&amp;nbsp;&lt;/p&gt;</cn><addtCn>&lt;p&gt;o 해발 : 1,195m&lt;br&gt;&lt;br&gt;o 등산코스&lt;br&gt;&lt;/p&gt;&lt;div align=\"center\" style=\"text-align: center;\"&gt;&lt;/div&gt;&lt;div align=\"center\" style=\"text-align: center;\"&gt;&lt;/div&gt;&lt;div align=\"center\" style=\"text-align: center;\"&gt;&lt;/div&gt;&lt;div align=\"center\" style=\"text-align: center;\"&gt;&lt;/div&gt;&lt;table class=\"table_t1 __se_tbl_ext\" summary=\"운문산 등산코스\"&gt;&lt;thead&gt;&lt;tr&gt;&lt;th scope=\"col\"&gt;&lt;p align=\"center\" style=\"text-align: center;\"&gt;&amp;nbsp; 지역&lt;/p&gt;&lt;/th&gt;&lt;th scope=\"col\"&gt;코스&lt;/th&gt;&lt;th scope=\"col\"&gt;등산코스&lt;/th&gt;&lt;th scope=\"col\"&gt;왕복거리&lt;/th&gt;&lt;th scope=\"col\"&gt;왕복소요시간&lt;/th&gt;&lt;/tr&gt;&lt;/thead&gt;&lt;tbody&gt;&lt;tr&gt;&lt;td class=\"tac fwb\"&gt;&lt;p align=\"center\" style=\"text-align: center;\"&gt;&amp;nbsp; 울산&lt;/p&gt;&lt;/td&gt;&lt;td class=\"couse_st1\"&gt;&lt;p align=\"center\" style=\"text-align: center;\"&gt;1코스&lt;/p&gt;&lt;/td&gt;&lt;td&gt;&lt;p align=\"center\" style=\"text-align: center;\"&gt;운문령-쌀바위-가지산정상-아랫재-정상&lt;/p&gt;&lt;/td&gt;&lt;td class=\"tac\"&gt;&lt;p align=\"center\" style=\"text-align: center;\"&gt;25.8Km&lt;/p&gt;&lt;/td&gt;&lt;td class=\"tac\"&gt;&lt;p align=\"center\" style=\"text-align: center;\"&gt;12:00&lt;/p&gt;&lt;/td&gt;&lt;/tr&gt;&lt;tr&gt;&lt;td class=\"tac fwb\" rowspan=\"2\"&gt;&lt;p align=\"center\" style=\"text-align: center;\"&gt;&amp;nbsp; 밀양&lt;/p&gt;&lt;/td&gt;&lt;td class=\"couse_st1\"&gt;&lt;p align=\"center\" style=\"text-align: center;\"&gt;1코스&lt;/p&gt;&lt;/td&gt;&lt;td&gt;&lt;p align=\"center\" style=\"text-align: center;\"&gt;석골사-선녀폭포-상운암-정상&lt;/p&gt;&lt;/td&gt;&lt;td class=\"tac\"&gt;&lt;p align=\"center\" style=\"text-align: center;\"&gt;8.0Km &lt;/p&gt;&lt;/td&gt;&lt;td class=\"tac\"&gt;&lt;p align=\"center\" style=\"text-align: center;\"&gt;04:10&lt;/p&gt;&lt;/td&gt;&lt;/tr&gt;&lt;tr&gt;&lt;td class=\"bol1 couse_st1\"&gt;&lt;p align=\"center\" style=\"text-align: center;\"&gt;2코스&lt;/p&gt;&lt;/td&gt;&lt;td&gt;&lt;p align=\"center\" style=\"text-align: center;\"&gt;남명초교-아랫재-정상&lt;/p&gt;&lt;/td&gt;&lt;td class=\"tac\"&gt;&lt;p align=\"center\" style=\"text-align: center;\"&gt;10.2Km&lt;/p&gt;&lt;/td&gt;&lt;td class=\"tac\"&gt;&lt;p align=\"center\" style=\"text-align: center;\"&gt;04:20&lt;/p&gt;&lt;/td&gt;&lt;/tr&gt;&lt;tr&gt;&lt;td class=\"tac fwb\" rowspan=\"2\"&gt;&lt;p align=\"center\" style=\"text-align: center;\"&gt;&amp;nbsp; 청도&lt;/p&gt;&lt;/td&gt;&lt;td class=\"couse_st1\"&gt;&lt;p align=\"center\" style=\"text-align: center;\"&gt;1코스&lt;/p&gt;&lt;/td&gt;&lt;td&gt;&lt;p align=\"center\" style=\"text-align: center;\"&gt;사리암주차장-심심계곡-아랫재-정상(현재 자연휴식년제로 통제)&lt;/p&gt;&lt;/td&gt;&lt;td class=\"tac\"&gt;&lt;p align=\"center\" style=\"text-align: center;\"&gt;12.0Km&lt;/p&gt;&lt;/td&gt;&lt;td class=\"tac\"&gt;&lt;p align=\"center\" style=\"text-align: center;\"&gt;05:10 &lt;/p&gt;&lt;/td&gt;&lt;/tr&gt;&lt;tr&gt;&lt;td class=\"bol1 couse_st1\"&gt;&lt;p align=\"center\" style=\"text-align: center;\"&gt;2코스&lt;/p&gt;&lt;/td&gt;&lt;td&gt;&lt;p align=\"center\" style=\"text-align: center;\"&gt;운문사-못골-천문지골-딱밭재-정상(현재 자연휴식년제로 통제)&lt;/p&gt;&lt;/td&gt;&lt;td class=\"tac\"&gt;&lt;p align=\"center\" style=\"text-align: center;\"&gt;10.4Km&lt;/p&gt;&lt;/td&gt;&lt;td class=\"tac\"&gt;&lt;p align=\"center\" style=\"text-align: center;\"&gt;05:50 &lt;/p&gt;&lt;/td&gt;&lt;/tr&gt;&lt;/tbody&gt;&lt;/table&gt;&lt;p&gt;&lt;br&gt;&lt;/p&gt;</addtCn><mdfcnDt>2021-12-18 14:00:27</mdfcnDt></list>]\n"
     ]
    }
   ],
   "source": [
    "### xml을 DataFrame으로 변환하기 ###\n",
    "from os import name\n",
    "import xml.etree.ElementTree as et\n",
    "import pandas as pd\n",
    "import bs4\n",
    "from lxml import html\n",
    "from urllib.parse import urlencode, quote_plus, unquote\n",
    "\n",
    "## 각 컬럼 값 ## (포털 문서에서 꼭 확인하세요)\n",
    "\"\"\"\n",
    "resultCode:결과코드\n",
    "resultMsg:결과메세지\n",
    "pageIndex:쿼리페이지 시작점\n",
    "numOfRows:페이지 크기\n",
    "pageNo:시작 페이지\n",
    "totalCount:전체 결과 수\n",
    "unqId:고유번호\n",
    "title:산명\n",
    "intr:소개\n",
    "roadNmAddr:소재지도로명주소\n",
    "lotnoAddr:소재지지번주소\n",
    "rprsTelno:연락처\n",
    "hmpgAddr:홈페이지\n",
    "lot:경도\n",
    "lat:위도\n",
    "cn:내용\n",
    "addtCn:부가정보\n",
    "mdfcnDt:데이터기준일자\n",
    "\n",
    "\"\"\" \n",
    "\n",
    "#bs4 사용하여 item 태그 분리\n",
    "\n",
    "xml_obj = bs4.BeautifulSoup(content,'lxml-xml')\n",
    "rows = xml_obj.findAll('list')\n",
    "print(rows)"
   ]
  },
  {
   "cell_type": "code",
   "execution_count": 68,
   "id": "d351308a",
   "metadata": {},
   "outputs": [],
   "source": [
    "# 각 행의 컬럼, 이름, 값을 가지는 리스트 만들기\n",
    "row_list = [] # 행값\n",
    "name_list = [] # 열이름값\n",
    "value_list = [] #데이터값\n",
    "\n",
    "# xml 안의 데이터 수집\n",
    "for i in range(0, len(rows)):\n",
    "    columns = rows[i].find_all()\n",
    "    #첫째 행 데이터 수집\n",
    "    for j in range(0,len(columns)):\n",
    "        if i ==0:\n",
    "            # 컬럼 이름 값 저장\n",
    "            name_list.append(columns[j].name)\n",
    "        # 컬럼의 각 데이터 값 저장\n",
    "        value_list.append(columns[j].text)\n",
    "    # 각 행의 value값 전체 저장\n",
    "    row_list.append(value_list)\n",
    "    # 데이터 리스트 값 초기화\n",
    "    value_list=[]"
   ]
  },
  {
   "cell_type": "code",
   "execution_count": 70,
   "id": "4ae7516f",
   "metadata": {},
   "outputs": [
    {
     "name": "stdout",
     "output_type": "stream",
     "text": [
      "  unqId title                                               intr  \\\n",
      "0     1   가지산  봄이면 진달래, 여름이면 녹음, 가을이면 단풍, 겨울이면 눈으로 4계절 모두 비경을...   \n",
      "1     2   간월산                                     신불산과 더불어 신성한 산   \n",
      "2     7   고헌산        가뭄이 들면 산 정상에 있는 용샘에서 기우제를 지내기도 했던 곳으로 유명한 산   \n",
      "3     8   대운산            울주군 온양읍 운화리에서 양산시 웅상읍 명곡리와 삼호리에 걸쳐 있는 산   \n",
      "4    10   무룡산                                         용이 춤을 추던 산   \n",
      "5    12   문복산                                           영남알프스 9봉   \n",
      "6     9   문수산  문수보살이 머물렀다 하여 문수산이라 불리며 축선사, 망해사, 문수사, 영취사 등 4...   \n",
      "7     3   신불산              가지산과 간월산에 이어져 영축산에 이르는 주봉으로 알려져 있는 고산   \n",
      "8     4   영축산         기암괴석과 노송, 신불산 정상으로 이어지는 억새능선이 장관을 이루고 있는 산   \n",
      "9    11   운문산                    영남알프스산군 중 경관이 가장 아름답다고 알려져 있는 산   \n",
      "\n",
      "                                roadNmAddr  \\\n",
      "0  울산광역시 울주군 상북면 / 경남 밀양시 산내면 / 경북 청도군 운문면   \n",
      "1               울산광역시 울주군 상북면 이천리 / 등억알프스리   \n",
      "2     울산광역시 울주군 언양읍, 상북면, 두서면 / 경북 경주시 산내면   \n",
      "3               울산광역시 울주군 온양읍 / 경남 양산시 웅상읍   \n",
      "4                       울산광역시 북구 화봉동 / 연암동   \n",
      "5                     경북 청도군 운문면 / 경주시 산내면   \n",
      "6                  울산광역시 울주군 청량면, 삼동면, 범서읍   \n",
      "7                       울산광역시 울주군 상북면, 삼남읍   \n",
      "8     울산광역시 울주군 삼남읍, 상북면 / 경남 양산시 하북면, 원동면   \n",
      "9                  경북 청도군 운문면 / 경남 밀양시 산내면   \n",
      "\n",
      "                                 lotnoAddr     rprsTelno  \\\n",
      "0  울산광역시 울주군 상북면 / 경남 밀양시 산내면 / 경북 청도군 운문면  052-204-1727   \n",
      "1               울산광역시 울주군 상북면 이천리 / 등억알프스리  052-204-1727   \n",
      "2     울산광역시 울주군 언양읍, 상북면, 두서면 / 경북 경주시 산내면  052-204-1727   \n",
      "3               울산광역시 울주군 온양읍 / 경남 양산시 웅상읍  052-204-1727   \n",
      "4                   울산광역시 북구 화봉동 산2-3번지 일원                 \n",
      "5                     경북 청도군 운문면 / 경주시 산내면                 \n",
      "6                  울산광역시 울주군 청량면, 삼동면, 범서읍  052-204-1727   \n",
      "7                       울산광역시 울주군 상북면, 삼남읍  052-204-1727   \n",
      "8     울산광역시 울주군 삼남읍, 상북면 / 경남 양산시 하북면, 원동면  052-204-1727   \n",
      "9                  경북 청도군 운문면 / 경남 밀양시 산내면                 \n",
      "\n",
      "                                            hmpgAddr         lot         lat  \\\n",
      "0                                                     129.003367   35.620106   \n",
      "1                                                     129.040032    35.55202   \n",
      "2                                                     129.084904   35.641582   \n",
      "3                                                     129.213488   35.401943   \n",
      "4  https://www.bukgu.ulsan.kr/lay1/S1T1665C1669/c...  129.397446  35.5909456   \n",
      "5  https://tour.ulsan.go.kr/board/list.ulsan?boar...    129.0347   35.677323   \n",
      "6                                                     129.214246   35.535329   \n",
      "7                                                     129.054132   35.539546   \n",
      "8                                                     129.053228   35.515936   \n",
      "9                                                     128.959794   35.615682   \n",
      "\n",
      "                                                  cn  \\\n",
      "0  가지산은 영남알프스내의 가장 높은 산으로 1979년 경상남도 도립공원으로 지정되었다...   \n",
      "1  <p><span style=\"color: rgb(0, 0, 0);\"></span><...   \n",
      "2  <p><span style=\"color: rgb(37, 37, 37);\">고헌산은 ...   \n",
      "3  <p>울주군 온양읍 운화리와 양산시 웅상읍 명곡리에 걸쳐 있는 산으로 낙동정맥의 최...   \n",
      "4  <p>해발 452m의 무룡산은 울산의 진산이며 지금은 방송 중계탑들이 세워진 중요한...   \n",
      "5  <p><span style=\"color: rgb(51, 51, 51);\">문복산은 ...   \n",
      "6  <p>울주군 청량면과 삼동면, 범서읍에 걸쳐 있는 문수산은 청량하고 신라때 문수보살...   \n",
      "7  <p><span style=\"color: rgb(37, 37, 37);\">신불산은 ...   \n",
      "8  <p><span style=\"color: rgb(37, 37, 37);\">영축산은 ...   \n",
      "9  <p><span style=\"color: rgb(37, 37, 37);\">운문산은 ...   \n",
      "\n",
      "                                              addtCn              mdfcnDt  \n",
      "0  o 해발 : 1,241m<br>o 등산코스<span style='font-famil...  2021-12-18 14:04:45  \n",
      "1  <p>o 해발 : 1,069m<br>o 등산코스<br></p><table class...  2021-12-18 14:04:27  \n",
      "2  <p>o 해발 : 1,034m<br><br>o 등산코스<br></p><table c...  2021-12-18 14:02:27  \n",
      "3  <p>o 해발 : 742m<br><br>o 등산코스<br></p><table cla...  2021-12-18 14:02:08  \n",
      "4  <p>o 해발 : 452m<br><br>o 등산코스<br></p><table cla...  2021-12-18 14:01:05  \n",
      "5  <p>o 해발 :&nbsp;1,015m</p><p><br>o 등산코스<br></p>...  2021-12-18 13:57:26  \n",
      "6  <p>o 해발 : 600m<br><br>o 등산코스<br></p><div align...  2021-12-18 14:01:36  \n",
      "7  <p>o 해발 : 1,159m<br>o 등산코스<br></p><table class...  2021-12-18 14:04:09  \n",
      "8  <p>o 해발 : 1,081m<br><br>o 등산코스<br></p><div ali...  2021-12-18 14:03:38  \n",
      "9  <p>o 해발 : 1,195m<br><br>o 등산코스<br></p><div ali...  2021-12-18 14:00:27  \n"
     ]
    }
   ],
   "source": [
    "#xml값 DataFrame으로 만들기\n",
    "ulsan_mountain_df = pd.DataFrame(row_list, columns=name_list)\n",
    "print(ulsan_mountain_df.head(19))"
   ]
  },
  {
   "cell_type": "code",
   "execution_count": 72,
   "id": "7875c91d",
   "metadata": {},
   "outputs": [],
   "source": [
    "ulsan_mountain_df.to_csv('ulsan_mountain.csv', encoding='utf-8')"
   ]
  },
  {
   "cell_type": "code",
   "execution_count": null,
   "id": "bb461874",
   "metadata": {},
   "outputs": [],
   "source": []
  },
  {
   "cell_type": "code",
   "execution_count": null,
   "id": "db7f332a",
   "metadata": {},
   "outputs": [],
   "source": []
  },
  {
   "cell_type": "code",
   "execution_count": null,
   "id": "1b1b9eeb",
   "metadata": {},
   "outputs": [],
   "source": []
  },
  {
   "cell_type": "code",
   "execution_count": null,
   "id": "1af11fa4",
   "metadata": {},
   "outputs": [],
   "source": []
  },
  {
   "cell_type": "code",
   "execution_count": null,
   "id": "cb1aa380",
   "metadata": {},
   "outputs": [],
   "source": []
  },
  {
   "cell_type": "code",
   "execution_count": null,
   "id": "69585503",
   "metadata": {},
   "outputs": [],
   "source": []
  },
  {
   "cell_type": "code",
   "execution_count": null,
   "id": "6a5667f0",
   "metadata": {},
   "outputs": [],
   "source": []
  },
  {
   "cell_type": "code",
   "execution_count": null,
   "id": "578ae9d2",
   "metadata": {},
   "outputs": [],
   "source": []
  },
  {
   "cell_type": "code",
   "execution_count": null,
   "id": "abbfcb08",
   "metadata": {},
   "outputs": [],
   "source": []
  },
  {
   "cell_type": "code",
   "execution_count": null,
   "id": "7e88045b",
   "metadata": {},
   "outputs": [],
   "source": []
  },
  {
   "cell_type": "code",
   "execution_count": null,
   "id": "061d934f",
   "metadata": {},
   "outputs": [],
   "source": []
  }
 ],
 "metadata": {
  "kernelspec": {
   "display_name": "Python 3 (ipykernel)",
   "language": "python",
   "name": "python3"
  },
  "language_info": {
   "codemirror_mode": {
    "name": "ipython",
    "version": 3
   },
   "file_extension": ".py",
   "mimetype": "text/x-python",
   "name": "python",
   "nbconvert_exporter": "python",
   "pygments_lexer": "ipython3",
   "version": "3.9.12"
  }
 },
 "nbformat": 4,
 "nbformat_minor": 5
}
